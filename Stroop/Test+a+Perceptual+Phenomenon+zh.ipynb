{
 "cells": [
  {
   "cell_type": "markdown",
   "metadata": {},
   "source": [
    "### 统计学：检验心理学现象\n",
    "\n",
    "在下方单元格中回答问题并执行相关代码，你可以 [参考项目指导](https://github.com/udacity/new-dand-advanced-china/blob/master/%E6%A3%80%E9%AA%8C%E5%BF%83%E7%90%86%E5%AD%A6%E7%8E%B0%E8%B1%A1/%E7%BB%9F%E8%AE%A1%E5%AD%A6%EF%BC%9A%E6%A3%80%E9%AA%8C%E5%BF%83%E7%90%86%E5%AD%A6%E7%8E%B0%E8%B1%A1.md) 并在正式提交前查看 [项目要求](https://review.udacity.com/#!/rubrics/305/view)。提交时请将 Jupyter notebook 导出成 HTML 或者 PDF 进行提交（File -> Download As）。\n",
    "\n",
    "背景信息\n",
    "\n",
    "在一个Stroop （斯特鲁普）任务中，参与者得到了一列文字，每个文字都用一种油墨颜色展示。参与者的任务是将文字的打印颜色大声说出来。这项任务有两个条件：一致文字条件，和不一致文字条件。在一致文字条件中，显示的文字是与它们的打印颜色匹配的颜色词，如“红色”、“蓝色”。在不一致文字条件中，显示的文字是与它们的打印颜色不匹配的颜色词，如“紫色”、“橙色”。在每个情况中，我们将计量说出同等大小的列表中的墨色名称的时间。每位参与者必须全部完成并记录每种条件下使用的时间。\n",
    "\n",
    "调查问题\n",
    "\n",
    "作为一般说明，请确保记录你在创建项目时使用或参考的任何资源。作为项目提交的一部分，你将需要报告信息来源。\n",
    "\n",
    "(1) 我们的自变量是什么？因变量是什么？"
   ]
  },
  {
   "cell_type": "markdown",
   "metadata": {},
   "source": [
    "--答案写这里--\n",
    "\n",
    "实验数据中的有哪些变量？\n",
    "\n",
    "答案：所需时间和文字条件\n",
    "\n",
    "哪些是自变量？\n",
    "\n",
    "答案：文字条件(颜色与文字内容是否一致）\n",
    "\n",
    "哪些是因变量？\n",
    "\n",
    "答案：所需时间（完成测试的反应时间）"
   ]
  },
  {
   "cell_type": "markdown",
   "metadata": {},
   "source": [
    "(2) 此任务的适当假设集是什么？你需要以文字和数学符号方式对假设集中的零假设和对立假设加以说明，并对数学符号进行定义。你想执行什么类型的统计检验？为你的选择提供正当理由（比如，为何该实验满足你所选统计检验的前置条件）。"
   ]
  },
  {
   "cell_type": "markdown",
   "metadata": {},
   "source": [
    "--答案写这里--\n",
    "一致样总体均值表示为μ_c，不一致的总体均值表示为μ_i，显著性水平为α = 0.05；μ_c和μ_i目前为未知。\n",
    "\n",
    "零假设 ： μ_c - μ_i = 0, 及假设文字条件一致所需时间与文字不一致所需时间无显著差异。\n",
    "\n",
    "对立假设 ：  μ_c - μ_i ≠ 0 及假设文字条件一致所需时间与文字不一致所需时间有显著差异。\n",
    "\n",
    "采用双侧假设。当 α = 0.05，分布的左右两侧显著水平分别为0.025。\n",
    "\n",
    "采用配对t检验进行验证，原因如下：\n",
    "\n",
    "1. 由于样本数据量比较小且n<30。\n",
    "2. 每组数据的总体标准差σ未知，不适合使用z-score方式进行验证。\n",
    "3. 实验为测试同一个群人在文字条件一致和不一致情况下的时间反馈，通过观测两组样本数据的均值之差是否符合预期值的方式来检验假设是否成立。\n",
    "4. 受试者为同一群人，所以两组数据为相关样本。\n",
    "5. 假设两组数据的分布为正态分布，即使不是正态分布，t验证也能很好的处理和应对小容量数据。\n",
    "\n",
    "综上条件，使用配对t检验中的相关样本验证是最符合的统计检验方式。"
   ]
  },
  {
   "cell_type": "markdown",
   "metadata": {},
   "source": [
    "现在轮到你自行尝试 Stroop 任务了。前往此链接，其中包含一个基于 Java 的小程序，专门用于执行 Stroop 任务。记录你收到的任务时间（你无需将时间提交到网站）。现在下载此数据集，其中包含一些任务参与者的结果。数据集的每行包含一名参与者的表现，第一个数字代表他们的一致任务结果，第二个数字代表不一致任务结果。\n",
    "\n",
    "(3) 报告关于此数据集的一些描述性统计。包含至少一个集中趋势测量和至少一个变异测量。"
   ]
  },
  {
   "cell_type": "code",
   "execution_count": 1,
   "metadata": {},
   "outputs": [
    {
     "data": {
      "text/html": [
       "<div>\n",
       "<style scoped>\n",
       "    .dataframe tbody tr th:only-of-type {\n",
       "        vertical-align: middle;\n",
       "    }\n",
       "\n",
       "    .dataframe tbody tr th {\n",
       "        vertical-align: top;\n",
       "    }\n",
       "\n",
       "    .dataframe thead th {\n",
       "        text-align: right;\n",
       "    }\n",
       "</style>\n",
       "<table border=\"1\" class=\"dataframe\">\n",
       "  <thead>\n",
       "    <tr style=\"text-align: right;\">\n",
       "      <th></th>\n",
       "      <th>Congruent</th>\n",
       "      <th>Incongruent</th>\n",
       "    </tr>\n",
       "  </thead>\n",
       "  <tbody>\n",
       "    <tr>\n",
       "      <th>0</th>\n",
       "      <td>12.079</td>\n",
       "      <td>19.278</td>\n",
       "    </tr>\n",
       "    <tr>\n",
       "      <th>1</th>\n",
       "      <td>16.791</td>\n",
       "      <td>18.741</td>\n",
       "    </tr>\n",
       "    <tr>\n",
       "      <th>2</th>\n",
       "      <td>9.564</td>\n",
       "      <td>21.214</td>\n",
       "    </tr>\n",
       "    <tr>\n",
       "      <th>3</th>\n",
       "      <td>8.630</td>\n",
       "      <td>15.687</td>\n",
       "    </tr>\n",
       "    <tr>\n",
       "      <th>4</th>\n",
       "      <td>14.669</td>\n",
       "      <td>22.803</td>\n",
       "    </tr>\n",
       "  </tbody>\n",
       "</table>\n",
       "</div>"
      ],
      "text/plain": [
       "   Congruent  Incongruent\n",
       "0     12.079       19.278\n",
       "1     16.791       18.741\n",
       "2      9.564       21.214\n",
       "3      8.630       15.687\n",
       "4     14.669       22.803"
      ]
     },
     "execution_count": 1,
     "metadata": {},
     "output_type": "execute_result"
    }
   ],
   "source": [
    "# 在这里执行你的分析\n",
    "import pandas as pd\n",
    "import matplotlib.pyplot as plt\n",
    "import numpy as np\n",
    "from scipy import stats\n",
    "import requests\n",
    "import io\n",
    "import math\n",
    "\n",
    "#-------read csv file-------#\n",
    "url = 'https://raw.githubusercontent.com/ShiChJ/DAND-Basic-Materials/master/P1/Project_Files/stroopdata.csv'\n",
    "# fetch csv file from raw link\n",
    "response = requests.get(url).content\n",
    "# response is type of bytes, need to decode it to string. \n",
    "response = io.StringIO(response.decode('utf-8'))\n",
    "# read csv file\n",
    "test_data_set = pd.read_csv(response)\n",
    "test_data_set.head()"
   ]
  },
  {
   "cell_type": "markdown",
   "metadata": {},
   "source": [
    "Descriptive Statistical for Congruent group:"
   ]
  },
  {
   "cell_type": "code",
   "execution_count": 2,
   "metadata": {},
   "outputs": [],
   "source": [
    "# sample mean of Congruent group\n",
    "mu_c = test_data_set['Congruent'].mean()"
   ]
  },
  {
   "cell_type": "code",
   "execution_count": 3,
   "metadata": {},
   "outputs": [
    {
     "data": {
      "text/plain": [
       "14.051124999999999"
      ]
     },
     "execution_count": 3,
     "metadata": {},
     "output_type": "execute_result"
    }
   ],
   "source": [
    "mu_c"
   ]
  },
  {
   "cell_type": "code",
   "execution_count": 6,
   "metadata": {},
   "outputs": [],
   "source": [
    "# sample variance \n",
    "s_c = test_data_set['Congruent'].std()"
   ]
  },
  {
   "cell_type": "code",
   "execution_count": 7,
   "metadata": {},
   "outputs": [
    {
     "data": {
      "text/plain": [
       "3.5593579576451955"
      ]
     },
     "execution_count": 7,
     "metadata": {},
     "output_type": "execute_result"
    }
   ],
   "source": [
    "s_c"
   ]
  },
  {
   "cell_type": "markdown",
   "metadata": {},
   "source": [
    "Descriptive Statistical for Incongruent Group"
   ]
  },
  {
   "cell_type": "code",
   "execution_count": 8,
   "metadata": {},
   "outputs": [],
   "source": [
    "# sample mean of Incongruent group\n",
    "mu_i = test_data_set['Incongruent'].mean()"
   ]
  },
  {
   "cell_type": "code",
   "execution_count": 9,
   "metadata": {},
   "outputs": [
    {
     "data": {
      "text/plain": [
       "22.015916666666666"
      ]
     },
     "execution_count": 9,
     "metadata": {},
     "output_type": "execute_result"
    }
   ],
   "source": [
    "mu_i"
   ]
  },
  {
   "cell_type": "code",
   "execution_count": 10,
   "metadata": {},
   "outputs": [],
   "source": [
    "# sample variance \n",
    "s_i = test_data_set['Incongruent'].std()"
   ]
  },
  {
   "cell_type": "code",
   "execution_count": 11,
   "metadata": {},
   "outputs": [
    {
     "data": {
      "text/plain": [
       "4.7970571224691376"
      ]
     },
     "execution_count": 11,
     "metadata": {},
     "output_type": "execute_result"
    }
   ],
   "source": [
    "s_i"
   ]
  },
  {
   "cell_type": "code",
   "execution_count": null,
   "metadata": {},
   "outputs": [],
   "source": [
    "创建一个新的column便于以后计算standard deviation "
   ]
  },
  {
   "cell_type": "code",
   "execution_count": 12,
   "metadata": {},
   "outputs": [],
   "source": [
    "test_data_set['difference'] = test_data_set['Congruent'].subtract(test_data_set['Incongruent'])"
   ]
  },
  {
   "cell_type": "code",
   "execution_count": 13,
   "metadata": {},
   "outputs": [],
   "source": [
    "mu_D = mu_c - mu_i"
   ]
  },
  {
   "cell_type": "code",
   "execution_count": 14,
   "metadata": {},
   "outputs": [],
   "source": [
    "#sample standard deviation of difference\n",
    "s_D = test_data_set['difference'].std()"
   ]
  },
  {
   "cell_type": "code",
   "execution_count": 15,
   "metadata": {},
   "outputs": [
    {
     "data": {
      "text/plain": [
       "4.8648269103590556"
      ]
     },
     "execution_count": 15,
     "metadata": {},
     "output_type": "execute_result"
    }
   ],
   "source": [
    "s_D"
   ]
  },
  {
   "cell_type": "markdown",
   "metadata": {},
   "source": [
    "--答案写这里--\n",
    "\n",
    "Congruent group（一致)：\n",
    "1. sample mean (mu_c) = 14.05\n",
    "2. sample standard deviation (s_c) = 3.56\n",
    "\n",
    "Incongruent group (不一致):\n",
    "1. sample mean (mu_i) = 22.02\n",
    "2. sample standard deviation (s_i) = 4.79\n",
    "\n",
    "difference group (差异):\n",
    "1. sample mean (mu_difference) = -7.97\n",
    "2. sample standard deviation (s_difference) = 4.84\n"
   ]
  },
  {
   "cell_type": "markdown",
   "metadata": {},
   "source": [
    "(4) 提供显示样本数据分布的一个或两个可视化。用一两句话说明你从图中观察到的结果。"
   ]
  },
  {
   "cell_type": "code",
   "execution_count": 16,
   "metadata": {},
   "outputs": [
    {
     "data": {
      "image/png": "[encoded data removed]",
      "text/plain": [
       "<matplotlib.figure.Figure at 0x7fc24044e7b8>"
      ]
     },
     "metadata": {
      "needs_background": "light"
     },
     "output_type": "display_data"
    }
   ],
   "source": [
    "# 在这里创建可视化图表\n",
    "n_bins = 10\n",
    "colors = ['red','blue']\n",
    "plt.hist([test_data_set['Congruent'],test_data_set['Incongruent']], n_bins, density=True,histtype='bar',color=colors,label=colors)\n",
    "plt.title('The Distribution of Congruent and Incongruent')\n",
    "plt.xlabel(\"Time\")\n",
    "plt.ylabel(\"Frequency\")\n",
    "plt.legend()\n",
    "plt.show()"
   ]
  },
  {
   "cell_type": "markdown",
   "metadata": {},
   "source": [
    "--答案写这里--\n",
    "\n",
    "属于什么分布？\n",
    "\n",
    "样本分布两侧尾部斜度趋于平缓，样本观测点为小于30，所以符合正态分布，满足t分布的前提条件\n",
    "\n",
    "mean，sd分别是多少?\n",
    "\n",
    "mean = -7.97\n",
    "\n",
    "sd = 4.84\n"
   ]
  },
  {
   "cell_type": "markdown",
   "metadata": {},
   "source": [
    "(5) 现在，执行统计测试并报告你的结果。你的置信水平和关键统计值是多少？你是否成功拒绝零假设？对试验任务得出一个结论。结果是否与你的期望一致？"
   ]
  },
  {
   "cell_type": "markdown",
   "metadata": {},
   "source": [
    "# 在这里执行统计检验\n",
    "# 1. 置信区间\n",
    "     alpha level: 5%\n",
    "     t-critical value\n",
    "# 2. 关键统计值\n",
    "     t-score\n",
    "         1. sample mean\n",
    "         2. sample error\n",
    "         3. Cohen’s d\n",
    "         4. r^2\n",
    "# 3. 假设验证\n",
    "    \n",
    "     对比 alpha 与 t-score\n",
    "     判断是否拒绝零假设，是否在拒绝域内(two tailed direction)\n",
    "         1. 拒绝域内： reject null hypothesis\n",
    "         2. 拒绝域外： accept null hypothesis\n",
    "         3. 计算效应量\n",
    "     计算公式:\n",
    "     n = 24, p<0.05, 2-tail direction\n",
    "     t-score = mean difference/ s_difference/square root of n\n",
    "     d = (mu_c - mu_i)/ s_difference\n",
    "     r^2 = (t^2/t^2 + df)"
   ]
  },
  {
   "cell_type": "markdown",
   "metadata": {},
   "source": [
    "在已知 α 和 df 的情况下，用scipy的库可直接获取对应的t-critical value"
   ]
  },
  {
   "cell_type": "code",
   "execution_count": 17,
   "metadata": {},
   "outputs": [
    {
     "data": {
      "text/plain": [
       "2.0686576104190406"
      ]
     },
     "execution_count": 17,
     "metadata": {},
     "output_type": "execute_result"
    }
   ],
   "source": [
    "# t-critical value\n",
    "stats.t.ppf(1-0.025,23)"
   ]
  },
  {
   "cell_type": "markdown",
   "metadata": {},
   "source": [
    "t-critical value = 2.069。 手动查看t-table确定计算结果是否正确。α = 0.05，n = 24, df = 23, 选择双尾验证，每一侧都的临界值都是p值都是0.025.最后根据t-table得到t临界值为2.069，手动查询结果与代码运行结果一致。"
   ]
  },
  {
   "cell_type": "code",
   "execution_count": 19,
   "metadata": {},
   "outputs": [],
   "source": [
    "# n = 24\n",
    "# t-score = mean difference/ s_difference/square root of n\n",
    "t_score = (mu_c - mu_i)/(s_D/math.sqrt(24))"
   ]
  },
  {
   "cell_type": "code",
   "execution_count": 20,
   "metadata": {},
   "outputs": [
    {
     "data": {
      "text/plain": [
       "-8.020706944109957"
      ]
     },
     "execution_count": 20,
     "metadata": {},
     "output_type": "execute_result"
    }
   ],
   "source": [
    "t_score"
   ]
  },
  {
   "cell_type": "code",
   "execution_count": 21,
   "metadata": {},
   "outputs": [],
   "source": [
    "d = (mu_c - mu_i)/s_D"
   ]
  },
  {
   "cell_type": "code",
   "execution_count": 22,
   "metadata": {},
   "outputs": [
    {
     "data": {
      "text/plain": [
       "-1.6372199491222625"
      ]
     },
     "execution_count": 22,
     "metadata": {},
     "output_type": "execute_result"
    }
   ],
   "source": [
    "d"
   ]
  },
  {
   "cell_type": "code",
   "execution_count": 23,
   "metadata": {},
   "outputs": [],
   "source": [
    "r_square = math.pow(t_score,2)/(math.pow(t_score,2) + 23)"
   ]
  },
  {
   "cell_type": "code",
   "execution_count": 24,
   "metadata": {},
   "outputs": [
    {
     "data": {
      "text/plain": [
       "0.736636416144506"
      ]
     },
     "execution_count": 24,
     "metadata": {},
     "output_type": "execute_result"
    }
   ],
   "source": [
    "r_square"
   ]
  },
  {
   "cell_type": "markdown",
   "metadata": {},
   "source": [
    "--答案写这里--\n",
    "\n",
    "alpha level = 5%，P = 0.05, two-tail\n",
    "\n",
    "t-critical value = +2.069/-2.069， 两侧临界值分别2.069\n",
    "\n",
    "mu_D = -7.97\n",
    "\n",
    "95% CI = (-10.04, -5.90)， 置信区间为-10.04~-5.90\n",
    "\n",
    "n = 24, df = 23\n",
    "\n",
    "t-score = -8.02\n",
    "\n",
    "d = -1.64   ,  1.2 <|d| < 2.0\n",
    "\n",
    "r^2 = 0.74  ,  r^2 接近 1， \n",
    "\n",
    "因为 t-score < t-critical value， P-difference < P(0.05)，可以拒绝零假设。\n",
    "\n",
    "因为t值出现在左侧的拒绝域，所以可以确定 mu_c - mu_i < 0,即mu_c < mu_i,得出结论为：\n",
    "\n",
    "观察者在一致文字条件完成测试的速度快与不一致文字条件。通过测量Cohen’s d和 r^2发现效应量非常大。这说明虽然对应的P值非常小，对应的效应量很大说明实际意义很大，应该得到重视。\n",
    "\n",
    "\n"
   ]
  },
  {
   "cell_type": "markdown",
   "metadata": {},
   "source": [
    "References:\n",
    "\n",
    "https://stackoverflow.com/questions/32400867/pandas-read-csv-from-url\n",
    "\n",
    "https://realpython.com/python-requests/#the-get-request\n",
    "\n",
    "https://blog.csdn.net/taiyangdao/article/details/79156389\n",
    "\n",
    "https://docs.python.org/3/library/io.html\n",
    "\n",
    "https://www.tutorialspoint.com/python/string_decode.htm\n",
    "\n",
    "https://blog.csdn.net/claroja/article/details/65445063\n",
    "\n",
    "https://www.geeksforgeeks.org/python-pandas-dataframe-subtract/\n",
    "\n",
    "https://stackoverflow.com/questions/31674195/plot-normal-distribution-given-mean-and-sigma-python\n",
    "\n",
    "https://docs.scipy.org/doc/scipy-0.14.0/reference/generated/scipy.stats.sem.html\n",
    "\n",
    "https://matplotlib.org/api/_as_gen/matplotlib.pyplot.hist.html\n",
    "\n",
    "https://en.wikipedia.org/wiki/Effect_size#Cohen's_d"
   ]
  }
 ],
 "metadata": {
  "anaconda-cloud": {},
  "kernelspec": {
   "display_name": "Python 3",
   "language": "python",
   "name": "python3"
  },
  "language_info": {
   "codemirror_mode": {
    "name": "ipython",
    "version": 3
   },
   "file_extension": ".py",
   "mimetype": "text/x-python",
   "name": "python",
   "nbconvert_exporter": "python",
   "pygments_lexer": "ipython3",
   "version": "3.6.3"
  }
 },
 "nbformat": 4,
 "nbformat_minor": 2
}
